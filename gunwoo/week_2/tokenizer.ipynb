{
 "cells": [
  {
   "cell_type": "code",
   "execution_count": null,
   "metadata": {},
   "outputs": [],
   "source": [
    "!pip install tiktoken\n",
    "!pip install tokenizers\n",
    "!pip install transformers"
   ]
  },
  {
   "cell_type": "code",
   "execution_count": 1,
   "metadata": {},
   "outputs": [],
   "source": [
    "# 텍스트 예제\n",
    "text = \"The .encode() method converts a text string into a list of token integers.\""
   ]
  },
  {
   "cell_type": "markdown",
   "metadata": {},
   "source": [
    "# Tiktoken"
   ]
  },
  {
   "cell_type": "code",
   "execution_count": 2,
   "metadata": {},
   "outputs": [
    {
     "name": "stdout",
     "output_type": "stream",
     "text": [
      "Tokens: [791, 662, 6311, 368, 1749, 33822, 264, 1495, 925, 1139, 264, 1160, 315, 4037, 26864, 13]\n",
      "Number of tokens: 16\n",
      "Decoded text: The .encode() method converts a text string into a list of token integers.\n"
     ]
    }
   ],
   "source": [
    "import tiktoken\n",
    "\n",
    "# 사용할 모델 지정 (예: gpt-3.5-turbo)\n",
    "model = \"gpt-3.5-turbo\"\n",
    "\n",
    "# 모델에 맞는 인코딩 가져오기\n",
    "encoding = tiktoken.encoding_for_model(model)\n",
    "\n",
    "# 텍스트를 토큰화\n",
    "tokens = encoding.encode(text)\n",
    "print(f\"Tokens: {tokens}\")\n",
    "\n",
    "# 토큰 수 계산\n",
    "num_tokens = len(tokens)\n",
    "print(f\"Number of tokens: {num_tokens}\")\n",
    "\n",
    "# 토큰을 다시 텍스트로 디코딩\n",
    "decoded_text = encoding.decode(tokens)\n",
    "print(f\"Decoded text: {decoded_text}\")"
   ]
  },
  {
   "cell_type": "code",
   "execution_count": 3,
   "metadata": {},
   "outputs": [
    {
     "data": {
      "text/plain": [
       "[b'The',\n",
       " b' .',\n",
       " b'encode',\n",
       " b'()',\n",
       " b' method',\n",
       " b' converts',\n",
       " b' a',\n",
       " b' text',\n",
       " b' string',\n",
       " b' into',\n",
       " b' a',\n",
       " b' list',\n",
       " b' of',\n",
       " b' token',\n",
       " b' integers',\n",
       " b'.']"
      ]
     },
     "execution_count": 3,
     "metadata": {},
     "output_type": "execute_result"
    }
   ],
   "source": [
    "[encoding.decode_single_token_bytes(token) for token in tokens]"
   ]
  },
  {
   "cell_type": "markdown",
   "metadata": {},
   "source": [
    "# Hugging Face"
   ]
  },
  {
   "cell_type": "code",
   "execution_count": 4,
   "metadata": {},
   "outputs": [
    {
     "name": "stderr",
     "output_type": "stream",
     "text": [
      "/Users/hyunclean/.pyenv/versions/ssg_venv/lib/python3.11/site-packages/tqdm/auto.py:21: TqdmWarning: IProgress not found. Please update jupyter and ipywidgets. See https://ipywidgets.readthedocs.io/en/stable/user_install.html\n",
      "  from .autonotebook import tqdm as notebook_tqdm\n",
      "None of PyTorch, TensorFlow >= 2.0, or Flax have been found. Models won't be available and only tokenizers, configuration and file/data utilities can be used.\n"
     ]
    }
   ],
   "source": [
    "from transformers import AutoTokenizer\n",
    "\n",
    "tokenizer = AutoTokenizer.from_pretrained(\"bert-base-multilingual-cased\")\n",
    "\n",
    "encoded = tokenizer(text)\n"
   ]
  },
  {
   "cell_type": "code",
   "execution_count": 5,
   "metadata": {},
   "outputs": [
    {
     "name": "stdout",
     "output_type": "stream",
     "text": [
      "input_ids: [101, 10117, 119, 10110, 54261, 113, 114, 22414, 92028, 10107, 169, 15541, 33714, 10708, 169, 13416, 10108, 18436, 10136, 14168, 30787, 119, 102]\n"
     ]
    }
   ],
   "source": [
    "print(\"input_ids:\", encoded['input_ids'])"
   ]
  },
  {
   "cell_type": "code",
   "execution_count": 7,
   "metadata": {},
   "outputs": [
    {
     "data": {
      "text/plain": [
       "['[CLS]',\n",
       " 'The',\n",
       " '.',\n",
       " 'en',\n",
       " '##code',\n",
       " '(',\n",
       " ')',\n",
       " 'method',\n",
       " 'convert',\n",
       " '##s',\n",
       " 'a',\n",
       " 'text',\n",
       " 'string',\n",
       " 'into',\n",
       " 'a',\n",
       " 'list',\n",
       " 'of',\n",
       " 'tok',\n",
       " '##en',\n",
       " 'inte',\n",
       " '##gers',\n",
       " '.',\n",
       " '[SEP]']"
      ]
     },
     "execution_count": 7,
     "metadata": {},
     "output_type": "execute_result"
    }
   ],
   "source": [
    "tokenizer.convert_ids_to_tokens(encoded['input_ids'])"
   ]
  },
  {
   "cell_type": "code",
   "execution_count": null,
   "metadata": {},
   "outputs": [],
   "source": []
  }
 ],
 "metadata": {
  "kernelspec": {
   "display_name": "ssg_venv",
   "language": "python",
   "name": "python3"
  },
  "language_info": {
   "codemirror_mode": {
    "name": "ipython",
    "version": 3
   },
   "file_extension": ".py",
   "mimetype": "text/x-python",
   "name": "python",
   "nbconvert_exporter": "python",
   "pygments_lexer": "ipython3",
   "version": "3.11.11"
  }
 },
 "nbformat": 4,
 "nbformat_minor": 2
}
